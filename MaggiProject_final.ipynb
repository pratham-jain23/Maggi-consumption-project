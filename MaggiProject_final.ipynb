{
 "cells": [
  {
   "cell_type": "markdown",
   "metadata": {},
   "source": [
    "# Its Maggi !!"
   ]
  },
  {
   "cell_type": "code",
   "execution_count": 1,
   "metadata": {},
   "outputs": [],
   "source": [
    "#import relevant libraries\n",
    "import numpy as np\n",
    "import pandas as pd\n",
    "import matplotlib.pyplot as plt\n",
    "import seaborn as sns\n",
    "sns.set()"
   ]
  },
  {
   "cell_type": "code",
   "execution_count": 2,
   "metadata": {},
   "outputs": [
    {
     "data": {
      "text/html": [
       "<div>\n",
       "<style scoped>\n",
       "    .dataframe tbody tr th:only-of-type {\n",
       "        vertical-align: middle;\n",
       "    }\n",
       "\n",
       "    .dataframe tbody tr th {\n",
       "        vertical-align: top;\n",
       "    }\n",
       "\n",
       "    .dataframe thead th {\n",
       "        text-align: right;\n",
       "    }\n",
       "</style>\n",
       "<table border=\"1\" class=\"dataframe\">\n",
       "  <thead>\n",
       "    <tr style=\"text-align: right;\">\n",
       "      <th></th>\n",
       "      <th>Timestamp</th>\n",
       "      <th>Mention your age.</th>\n",
       "      <th>How often do you have Maggi?</th>\n",
       "      <th>What's your quantity of consumption  at a time?</th>\n",
       "      <th>Which noodle brand would you prefer after Maggi?</th>\n",
       "      <th>Do you add other ingredients to your Maggi?</th>\n",
       "      <th>If Yes, then which ingredients?</th>\n",
       "      <th>Do you consider Maggi noodles as your Go-To meal?</th>\n",
       "      <th>Did Lead controversy brought decline in your consumption pattern of Maggi?</th>\n",
       "      <th>Do you find nutritive value in Maggi?</th>\n",
       "      <th>Would you prefer a pack of quantity more than 1 pkt and less than 2 pkts i.e. the pack  costing Rs.15/- for a single meal?</th>\n",
       "      <th>Do you prefer buying Maggi Masala-ae-Magic with Maggi noodles?</th>\n",
       "      <th>Would you want Maggi to increase its tastemaker size at the cost of increased price?</th>\n",
       "    </tr>\n",
       "  </thead>\n",
       "  <tbody>\n",
       "    <tr>\n",
       "      <td>0</td>\n",
       "      <td>2021/06/07 9:38:40 PM GMT+5:30</td>\n",
       "      <td>18-26</td>\n",
       "      <td>Once in a week</td>\n",
       "      <td>1 PKT</td>\n",
       "      <td>Yippee</td>\n",
       "      <td>Yes</td>\n",
       "      <td>Sauces;Spices(oregano, chili flakes, etc.)</td>\n",
       "      <td>Yes</td>\n",
       "      <td>No, It's still the same</td>\n",
       "      <td>No</td>\n",
       "      <td>Yes</td>\n",
       "      <td>Yes</td>\n",
       "      <td>Yes</td>\n",
       "    </tr>\n",
       "    <tr>\n",
       "      <td>1</td>\n",
       "      <td>2021/06/07 9:43:34 PM GMT+5:30</td>\n",
       "      <td>18-26</td>\n",
       "      <td>Once in two weeks</td>\n",
       "      <td>1 PKT</td>\n",
       "      <td>Yippee</td>\n",
       "      <td>Yes</td>\n",
       "      <td>Veggies;Sauces;Spices(oregano, chili flakes, e...</td>\n",
       "      <td>Yes</td>\n",
       "      <td>Yes, It did</td>\n",
       "      <td>No</td>\n",
       "      <td>No</td>\n",
       "      <td>No</td>\n",
       "      <td>Yes</td>\n",
       "    </tr>\n",
       "    <tr>\n",
       "      <td>2</td>\n",
       "      <td>2021/06/07 9:44:47 PM GMT+5:30</td>\n",
       "      <td>18-26</td>\n",
       "      <td>Once in two weeks</td>\n",
       "      <td>2 PKTS</td>\n",
       "      <td>Yippee</td>\n",
       "      <td>Yes</td>\n",
       "      <td>Spices(oregano, chili flakes, etc.);Other</td>\n",
       "      <td>No</td>\n",
       "      <td>Yes, It did</td>\n",
       "      <td>No</td>\n",
       "      <td>No</td>\n",
       "      <td>Yes</td>\n",
       "      <td>Yes</td>\n",
       "    </tr>\n",
       "    <tr>\n",
       "      <td>3</td>\n",
       "      <td>2021/06/07 9:45:18 PM GMT+5:30</td>\n",
       "      <td>18-26</td>\n",
       "      <td>Less often</td>\n",
       "      <td>2 PKTS</td>\n",
       "      <td>Yippee</td>\n",
       "      <td>Yes</td>\n",
       "      <td>Veggies;Spices(oregano, chili flakes, etc.);Cr...</td>\n",
       "      <td>No</td>\n",
       "      <td>Yes, It did</td>\n",
       "      <td>No</td>\n",
       "      <td>No</td>\n",
       "      <td>Yes</td>\n",
       "      <td>Yes</td>\n",
       "    </tr>\n",
       "    <tr>\n",
       "      <td>4</td>\n",
       "      <td>2021/06/07 9:45:22 PM GMT+5:30</td>\n",
       "      <td>18-26</td>\n",
       "      <td>More than once in a week</td>\n",
       "      <td>2 PKTS</td>\n",
       "      <td>Yippee</td>\n",
       "      <td>No</td>\n",
       "      <td>Cream/Cheese</td>\n",
       "      <td>Yes</td>\n",
       "      <td>No, It's still the same</td>\n",
       "      <td>No</td>\n",
       "      <td>Yes</td>\n",
       "      <td>No</td>\n",
       "      <td>No</td>\n",
       "    </tr>\n",
       "    <tr>\n",
       "      <td>...</td>\n",
       "      <td>...</td>\n",
       "      <td>...</td>\n",
       "      <td>...</td>\n",
       "      <td>...</td>\n",
       "      <td>...</td>\n",
       "      <td>...</td>\n",
       "      <td>...</td>\n",
       "      <td>...</td>\n",
       "      <td>...</td>\n",
       "      <td>...</td>\n",
       "      <td>...</td>\n",
       "      <td>...</td>\n",
       "      <td>...</td>\n",
       "    </tr>\n",
       "    <tr>\n",
       "      <td>105</td>\n",
       "      <td>2021/06/10 12:05:32 PM GMT+5:30</td>\n",
       "      <td>18-26</td>\n",
       "      <td>Less often</td>\n",
       "      <td>2 PKTS</td>\n",
       "      <td>Yippee</td>\n",
       "      <td>No</td>\n",
       "      <td>NaN</td>\n",
       "      <td>Yes</td>\n",
       "      <td>No, It's still the same</td>\n",
       "      <td>No</td>\n",
       "      <td>Yes</td>\n",
       "      <td>Yes</td>\n",
       "      <td>Yes</td>\n",
       "    </tr>\n",
       "    <tr>\n",
       "      <td>106</td>\n",
       "      <td>2021/06/10 12:14:06 PM GMT+5:30</td>\n",
       "      <td>18-26</td>\n",
       "      <td>Once in a month</td>\n",
       "      <td>2 PKTS</td>\n",
       "      <td>Yippee</td>\n",
       "      <td>Yes</td>\n",
       "      <td>Veggies;Spices(oregano, chili flakes, etc.)</td>\n",
       "      <td>Yes</td>\n",
       "      <td>No, It's still the same</td>\n",
       "      <td>No</td>\n",
       "      <td>Yes</td>\n",
       "      <td>Yes</td>\n",
       "      <td>Yes</td>\n",
       "    </tr>\n",
       "    <tr>\n",
       "      <td>107</td>\n",
       "      <td>2021/06/10 12:22:22 PM GMT+5:30</td>\n",
       "      <td>18-26</td>\n",
       "      <td>More than once in a week</td>\n",
       "      <td>2 PKTS</td>\n",
       "      <td>Top Ramen</td>\n",
       "      <td>Yes</td>\n",
       "      <td>Veggies;Sauces;Spices(oregano, chili flakes, e...</td>\n",
       "      <td>Yes</td>\n",
       "      <td>No, It's still the same</td>\n",
       "      <td>Yes</td>\n",
       "      <td>Yes</td>\n",
       "      <td>Yes</td>\n",
       "      <td>Yes</td>\n",
       "    </tr>\n",
       "    <tr>\n",
       "      <td>108</td>\n",
       "      <td>2021/06/10 12:46:14 PM GMT+5:30</td>\n",
       "      <td>18-26</td>\n",
       "      <td>Once in a month</td>\n",
       "      <td>1 PKT</td>\n",
       "      <td>Top Ramen</td>\n",
       "      <td>Yes</td>\n",
       "      <td>Veggies;Spices(oregano, chili flakes, etc.);Cr...</td>\n",
       "      <td>No</td>\n",
       "      <td>Yes, It did</td>\n",
       "      <td>No</td>\n",
       "      <td>Yes</td>\n",
       "      <td>Yes</td>\n",
       "      <td>No</td>\n",
       "    </tr>\n",
       "    <tr>\n",
       "      <td>109</td>\n",
       "      <td>2021/06/10 2:07:09 PM GMT+5:30</td>\n",
       "      <td>18-26</td>\n",
       "      <td>Once in a month</td>\n",
       "      <td>1 PKT</td>\n",
       "      <td>Yippee</td>\n",
       "      <td>Yes</td>\n",
       "      <td>Veggies;Spices(oregano, chili flakes, etc.)</td>\n",
       "      <td>Yes</td>\n",
       "      <td>Yes, It did</td>\n",
       "      <td>No</td>\n",
       "      <td>Yes</td>\n",
       "      <td>Yes</td>\n",
       "      <td>Yes</td>\n",
       "    </tr>\n",
       "  </tbody>\n",
       "</table>\n",
       "<p>110 rows × 13 columns</p>\n",
       "</div>"
      ],
      "text/plain": [
       "                           Timestamp Mention your age.  \\\n",
       "0     2021/06/07 9:38:40 PM GMT+5:30             18-26   \n",
       "1     2021/06/07 9:43:34 PM GMT+5:30             18-26   \n",
       "2     2021/06/07 9:44:47 PM GMT+5:30             18-26   \n",
       "3     2021/06/07 9:45:18 PM GMT+5:30             18-26   \n",
       "4     2021/06/07 9:45:22 PM GMT+5:30             18-26   \n",
       "..                               ...               ...   \n",
       "105  2021/06/10 12:05:32 PM GMT+5:30             18-26   \n",
       "106  2021/06/10 12:14:06 PM GMT+5:30             18-26   \n",
       "107  2021/06/10 12:22:22 PM GMT+5:30             18-26   \n",
       "108  2021/06/10 12:46:14 PM GMT+5:30             18-26   \n",
       "109   2021/06/10 2:07:09 PM GMT+5:30             18-26   \n",
       "\n",
       "    How often do you have Maggi?  \\\n",
       "0                 Once in a week   \n",
       "1              Once in two weeks   \n",
       "2              Once in two weeks   \n",
       "3                     Less often   \n",
       "4       More than once in a week   \n",
       "..                           ...   \n",
       "105                   Less often   \n",
       "106              Once in a month   \n",
       "107     More than once in a week   \n",
       "108              Once in a month   \n",
       "109              Once in a month   \n",
       "\n",
       "    What's your quantity of consumption  at a time?  \\\n",
       "0                                             1 PKT   \n",
       "1                                             1 PKT   \n",
       "2                                            2 PKTS   \n",
       "3                                            2 PKTS   \n",
       "4                                            2 PKTS   \n",
       "..                                              ...   \n",
       "105                                          2 PKTS   \n",
       "106                                          2 PKTS   \n",
       "107                                          2 PKTS   \n",
       "108                                           1 PKT   \n",
       "109                                           1 PKT   \n",
       "\n",
       "    Which noodle brand would you prefer after Maggi?  \\\n",
       "0                                             Yippee   \n",
       "1                                             Yippee   \n",
       "2                                             Yippee   \n",
       "3                                             Yippee   \n",
       "4                                             Yippee   \n",
       "..                                               ...   \n",
       "105                                           Yippee   \n",
       "106                                           Yippee   \n",
       "107                                        Top Ramen   \n",
       "108                                        Top Ramen   \n",
       "109                                           Yippee   \n",
       "\n",
       "    Do you add other ingredients to your Maggi?  \\\n",
       "0                                           Yes   \n",
       "1                                           Yes   \n",
       "2                                           Yes   \n",
       "3                                           Yes   \n",
       "4                                            No   \n",
       "..                                          ...   \n",
       "105                                          No   \n",
       "106                                         Yes   \n",
       "107                                         Yes   \n",
       "108                                         Yes   \n",
       "109                                         Yes   \n",
       "\n",
       "                       If Yes, then which ingredients?  \\\n",
       "0           Sauces;Spices(oregano, chili flakes, etc.)   \n",
       "1    Veggies;Sauces;Spices(oregano, chili flakes, e...   \n",
       "2            Spices(oregano, chili flakes, etc.);Other   \n",
       "3    Veggies;Spices(oregano, chili flakes, etc.);Cr...   \n",
       "4                                         Cream/Cheese   \n",
       "..                                                 ...   \n",
       "105                                                NaN   \n",
       "106        Veggies;Spices(oregano, chili flakes, etc.)   \n",
       "107  Veggies;Sauces;Spices(oregano, chili flakes, e...   \n",
       "108  Veggies;Spices(oregano, chili flakes, etc.);Cr...   \n",
       "109        Veggies;Spices(oregano, chili flakes, etc.)   \n",
       "\n",
       "    Do you consider Maggi noodles as your Go-To meal?    \\\n",
       "0                                                  Yes    \n",
       "1                                                  Yes    \n",
       "2                                                   No    \n",
       "3                                                   No    \n",
       "4                                                  Yes    \n",
       "..                                                 ...    \n",
       "105                                                Yes    \n",
       "106                                                Yes    \n",
       "107                                                Yes    \n",
       "108                                                 No    \n",
       "109                                                Yes    \n",
       "\n",
       "    Did Lead controversy brought decline in your consumption pattern of Maggi?  \\\n",
       "0                              No, It's still the same                           \n",
       "1                                          Yes, It did                           \n",
       "2                                          Yes, It did                           \n",
       "3                                          Yes, It did                           \n",
       "4                              No, It's still the same                           \n",
       "..                                                 ...                           \n",
       "105                            No, It's still the same                           \n",
       "106                            No, It's still the same                           \n",
       "107                            No, It's still the same                           \n",
       "108                                        Yes, It did                           \n",
       "109                                        Yes, It did                           \n",
       "\n",
       "    Do you find nutritive value in Maggi?  \\\n",
       "0                                      No   \n",
       "1                                      No   \n",
       "2                                      No   \n",
       "3                                      No   \n",
       "4                                      No   \n",
       "..                                    ...   \n",
       "105                                    No   \n",
       "106                                    No   \n",
       "107                                   Yes   \n",
       "108                                    No   \n",
       "109                                    No   \n",
       "\n",
       "    Would you prefer a pack of quantity more than 1 pkt and less than 2 pkts i.e. the pack  costing Rs.15/- for a single meal?  \\\n",
       "0                                                  Yes                                                                           \n",
       "1                                                   No                                                                           \n",
       "2                                                   No                                                                           \n",
       "3                                                   No                                                                           \n",
       "4                                                  Yes                                                                           \n",
       "..                                                 ...                                                                           \n",
       "105                                                Yes                                                                           \n",
       "106                                                Yes                                                                           \n",
       "107                                                Yes                                                                           \n",
       "108                                                Yes                                                                           \n",
       "109                                                Yes                                                                           \n",
       "\n",
       "    Do you prefer buying Maggi Masala-ae-Magic with Maggi noodles?   \\\n",
       "0                                                  Yes                \n",
       "1                                                   No                \n",
       "2                                                  Yes                \n",
       "3                                                  Yes                \n",
       "4                                                   No                \n",
       "..                                                 ...                \n",
       "105                                                Yes                \n",
       "106                                                Yes                \n",
       "107                                                Yes                \n",
       "108                                                Yes                \n",
       "109                                                Yes                \n",
       "\n",
       "    Would you want Maggi to increase its tastemaker size at the cost of increased price?    \n",
       "0                                                  Yes                                      \n",
       "1                                                  Yes                                      \n",
       "2                                                  Yes                                      \n",
       "3                                                  Yes                                      \n",
       "4                                                   No                                      \n",
       "..                                                 ...                                      \n",
       "105                                                Yes                                      \n",
       "106                                                Yes                                      \n",
       "107                                                Yes                                      \n",
       "108                                                 No                                      \n",
       "109                                                Yes                                      \n",
       "\n",
       "[110 rows x 13 columns]"
      ]
     },
     "execution_count": 2,
     "metadata": {},
     "output_type": "execute_result"
    }
   ],
   "source": [
    "#load the data\n",
    "survey_data=pd.read_csv(\"Maggi-Survey .csv\")\n",
    "survey_data"
   ]
  },
  {
   "cell_type": "code",
   "execution_count": 3,
   "metadata": {},
   "outputs": [],
   "source": [
    "#Copy the data into a new variable\n",
    "maggi_data=survey_data.copy()\n"
   ]
  },
  {
   "cell_type": "code",
   "execution_count": 4,
   "metadata": {},
   "outputs": [
    {
     "data": {
      "text/plain": [
       "array(['Timestamp', 'Mention your age.', 'How often do you have Maggi?',\n",
       "       \"What's your quantity of consumption  at a time?\",\n",
       "       'Which noodle brand would you prefer after Maggi?',\n",
       "       'Do you add other ingredients to your Maggi?',\n",
       "       'If Yes, then which ingredients?',\n",
       "       'Do you consider Maggi noodles as your Go-To meal?  ',\n",
       "       'Did Lead controversy brought decline in your consumption pattern of Maggi?',\n",
       "       'Do you find nutritive value in Maggi?',\n",
       "       'Would you prefer a pack of quantity more than 1 pkt and less than 2 pkts i.e. the pack  costing Rs.15/- for a single meal?',\n",
       "       'Do you prefer buying Maggi Masala-ae-Magic with Maggi noodles? ',\n",
       "       'Would you want Maggi to increase its tastemaker size at the cost of increased price?  '],\n",
       "      dtype=object)"
      ]
     },
     "execution_count": 4,
     "metadata": {},
     "output_type": "execute_result"
    }
   ],
   "source": [
    "#Display the column names\n",
    "maggi_data.columns.values"
   ]
  },
  {
   "cell_type": "markdown",
   "metadata": {},
   "source": [
    "## Preprocessing "
   ]
  },
  {
   "cell_type": "code",
   "execution_count": 5,
   "metadata": {},
   "outputs": [],
   "source": [
    "#Drop the \"Timestamp\" column\n",
    "maggi_data=maggi_data.drop('Timestamp', axis=1)"
   ]
  },
  {
   "cell_type": "code",
   "execution_count": 6,
   "metadata": {},
   "outputs": [],
   "source": [
    "#Create a list object containing the modified names for columns\n",
    "column_names=['age','number_of_times','consumption(in pkt)','competitors','add_ingredients','ingredients','go_to_meal','effect_of_lead','nutritive_value','rs15pack','masala_magic','inc_masala']"
   ]
  },
  {
   "cell_type": "code",
   "execution_count": 7,
   "metadata": {},
   "outputs": [],
   "source": [
    "#Create the list with keys as old column names and values as corresponding new names.\n",
    "names=dict()\n",
    "for i in range(len(column_names)):\n",
    "    names[maggi_data.columns.values[i]]=column_names[i]"
   ]
  },
  {
   "cell_type": "code",
   "execution_count": 8,
   "metadata": {},
   "outputs": [],
   "source": [
    "#Rename the column\n",
    "maggi_data=maggi_data.rename(columns=names)"
   ]
  },
  {
   "cell_type": "code",
   "execution_count": 9,
   "metadata": {},
   "outputs": [],
   "source": [
    "#Mapping the values of \"number of times\" column from 1-5 accordingly going from lower conumption to higher consumption\n",
    "maggi_data[\"number_of_times\"]=maggi_data[\"number_of_times\"].map({\"Less often\":1,\"Once in a month\":2,\"Once in two weeks\":3,\"Once in a week\":4,\"More than once in a week\":5})"
   ]
  },
  {
   "cell_type": "code",
   "execution_count": 10,
   "metadata": {},
   "outputs": [],
   "source": [
    "#Removing PKT from the values and mapping \"More than 2 PKTS\" with \"3\" in the \"consumption(in pkt)\" column\n",
    "maggi_data[\"consumption(in pkt)\"]=maggi_data[\"consumption(in pkt)\"].map({\"1 PKT\":1,\"2 PKTS\":2,\"More than 2 PKTS\":3})"
   ]
  },
  {
   "cell_type": "markdown",
   "metadata": {},
   "source": [
    "## About Respondents"
   ]
  },
  {
   "cell_type": "code",
   "execution_count": 11,
   "metadata": {},
   "outputs": [
    {
     "data": {
      "image/png": "[encoded data removed]",
      "text/plain": [
       "<Figure size 432x288 with 1 Axes>"
      ]
     },
     "metadata": {
      "needs_background": "light"
     },
     "output_type": "display_data"
    }
   ],
   "source": [
    "# Bar chart showing the distrinution of age groups.\n",
    "plt.bar(maggi_data['age'].value_counts().index ,maggi_data['age'].value_counts().values, color=['#ffed00',\"#ed232a\",'#023047'])\n",
    "plt.xlabel('Age group', fontsize=13)\n",
    "plt.ylabel('Frequency', fontsize=13)\n",
    "plt.title('Age group of respondents', fontsize=16, fontweight=\"bold\")\n",
    "plt.show()"
   ]
  },
  {
   "cell_type": "markdown",
   "metadata": {},
   "source": [
    "More than 90% of the respondents belong to the age group of 18-26 which are mostly college going students."
   ]
  },
  {
   "cell_type": "markdown",
   "metadata": {},
   "source": [
    "## Exploartory Data Analysis"
   ]
  },
  {
   "cell_type": "code",
   "execution_count": 12,
   "metadata": {},
   "outputs": [
    {
     "data": {
      "image/png": "[encoded data removed]",
      "text/plain": [
       "<Figure size 432x288 with 1 Axes>"
      ]
     },
     "metadata": {
      "needs_background": "light"
     },
     "output_type": "display_data"
    }
   ],
   "source": [
    "#Bar chart showing top compettors of Maggi \n",
    "plt.barh(maggi_data['competitors'].value_counts().index, maggi_data['competitors'].value_counts().values, color=['#e85d04','#023047','#370617','#008641','#d00000'])\n",
    "plt.xlabel('No. of people who prefer this brand', fontsize=13)\n",
    "plt.ylabel('Brand name', fontsize=13)\n",
    "plt.title('Close competitors of Maggi', fontsize=16, fontweight=\"bold\")\n",
    "plt.show()"
   ]
  },
  {
   "cell_type": "markdown",
   "metadata": {},
   "source": [
    "Yippee seems to be the closest competitor of Maggi among other brands with around 45% of the people preferring Yippee after Maggi."
   ]
  },
  {
   "cell_type": "code",
   "execution_count": 13,
   "metadata": {},
   "outputs": [
    {
     "data": {
      "text/plain": [
       "Text(0.5, 1.0, 'Is Maggi prefered with added ingredients ?')"
      ]
     },
     "execution_count": 13,
     "metadata": {},
     "output_type": "execute_result"
    },
    {
     "data": {
      "image/png": "[encoded data removed]",
      "text/plain": [
       "<Figure size 432x288 with 1 Axes>"
      ]
     },
     "metadata": {
      "needs_background": "light"
     },
     "output_type": "display_data"
    }
   ],
   "source": [
    "#Bar chart showing the no of people who consider/dont't consider maggi as complete meal\n",
    "sns.countplot(x=maggi_data['add_ingredients'], data= maggi_data ,palette=[\"#ffc922\",'#ed232a']).set_title('Is Maggi prefered with added ingredients ?', fontdict={'fontsize':16,'fontweight': 'bold'})"
   ]
  },
  {
   "cell_type": "markdown",
   "metadata": {},
   "source": [
    "More than 70% of the people prefer adding additional ingredients in their Maggi, this shows people experimenting with and cutomizing Maggi according to their own taste."
   ]
  },
  {
   "cell_type": "code",
   "execution_count": 14,
   "metadata": {},
   "outputs": [
    {
     "name": "stdout",
     "output_type": "stream",
     "text": [
      "Spices(oregano, chili flakes, etc.)    62\n",
      "Veggies                                54\n",
      "dtype: int64\n"
     ]
    }
   ],
   "source": [
    "#Top 2 ingredients that people prefer with maggi noodles\n",
    "ingredients=[]\n",
    "for i in range(maggi_data[\"ingredients\"].shape[0]):\n",
    "    a=str(maggi_data[\"ingredients\"][i]).split(\";\")\n",
    "    ingredients+=a\n",
    "ingredients_series=pd.Series(ingredients)\n",
    "print(ingredients_series.value_counts().head(2))"
   ]
  },
  {
   "cell_type": "markdown",
   "metadata": {},
   "source": [
    "Spices like oregano & chili flakes, and Veggies comes out to be the top 2 ingredients prefered by people along with their Maggi. This suggests Maggi can come up with flavors similar to these, to make their cutomers more happy."
   ]
  },
  {
   "cell_type": "code",
   "execution_count": 15,
   "metadata": {},
   "outputs": [
    {
     "data": {
      "text/plain": [
       "Text(0.5, 1.0, 'Has consumption declined after the Lead Controversy with Maggi?')"
      ]
     },
     "execution_count": 15,
     "metadata": {},
     "output_type": "execute_result"
    },
    {
     "data": {
      "image/png": "[encoded data removed]",
      "text/plain": [
       "<Figure size 432x288 with 1 Axes>"
      ]
     },
     "metadata": {
      "needs_background": "light"
     },
     "output_type": "display_data"
    }
   ],
   "source": [
    "#Bar chart showing the the no. of people whose consumption declined/didn't decline after 2015 lead controversy. \n",
    "sns.countplot(x=maggi_data['effect_of_lead'], data= maggi_data ,palette=[\"#ffc922\",'#ed232a']).set_title('Has consumption declined after the Lead Controversy with Maggi?',fontdict= { 'fontsize': 16, 'fontweight':'bold'})"
   ]
  },
  {
   "cell_type": "markdown",
   "metadata": {},
   "source": [
    "The consumption has remained same for majority of people as it was before the lead controversy with Maggi in 2015."
   ]
  },
  {
   "cell_type": "code",
   "execution_count": 16,
   "metadata": {},
   "outputs": [],
   "source": [
    "#create a dataframe for stacked area chart\n",
    "nutritive_value=pd.DataFrame()\n",
    "#create a column containing possible values for 'no_of_times' column\n",
    "nutritive_value['How_Often']=np.sort(maggi_data['number_of_times'].unique())"
   ]
  },
  {
   "cell_type": "code",
   "execution_count": 17,
   "metadata": {},
   "outputs": [],
   "source": [
    "#create a list containing the no. of people who finds nutritive value in maggi noodles and consumes it different no. of times.\n",
    "yes_value=[]\n",
    "for i in np.sort(maggi_data['number_of_times'].unique()):\n",
    "    yes_value.append(np.argwhere((maggi_data['number_of_times'].to_numpy()==i) & (maggi_data['nutritive_value'].to_numpy()=='Yes')).shape[0])"
   ]
  },
  {
   "cell_type": "code",
   "execution_count": 18,
   "metadata": {},
   "outputs": [],
   "source": [
    "#create a list containing the no. of people who doesn't find nutritive value in maggi noodles and consumes it different no. of times.\n",
    "no_value=[]\n",
    "for i in np.sort(maggi_data['number_of_times'].unique()):\n",
    "    no_value.append(np.argwhere((maggi_data['number_of_times'].to_numpy()==i) & (maggi_data['nutritive_value'].to_numpy()=='No')).shape[0])"
   ]
  },
  {
   "cell_type": "code",
   "execution_count": 19,
   "metadata": {},
   "outputs": [],
   "source": [
    "#Add the above two list as separate columns in \"nutritive value\" dataframe.\n",
    "nutritive_value['Yes']= yes_value\n",
    "nutritive_value['No']= no_value"
   ]
  },
  {
   "cell_type": "code",
   "execution_count": 20,
   "metadata": {},
   "outputs": [
    {
     "data": {
      "text/html": [
       "<div>\n",
       "<style scoped>\n",
       "    .dataframe tbody tr th:only-of-type {\n",
       "        vertical-align: middle;\n",
       "    }\n",
       "\n",
       "    .dataframe tbody tr th {\n",
       "        vertical-align: top;\n",
       "    }\n",
       "\n",
       "    .dataframe thead th {\n",
       "        text-align: right;\n",
       "    }\n",
       "</style>\n",
       "<table border=\"1\" class=\"dataframe\">\n",
       "  <thead>\n",
       "    <tr style=\"text-align: right;\">\n",
       "      <th></th>\n",
       "      <th>How_Often</th>\n",
       "      <th>Yes</th>\n",
       "      <th>No</th>\n",
       "    </tr>\n",
       "  </thead>\n",
       "  <tbody>\n",
       "    <tr>\n",
       "      <td>0</td>\n",
       "      <td>1</td>\n",
       "      <td>0</td>\n",
       "      <td>22</td>\n",
       "    </tr>\n",
       "    <tr>\n",
       "      <td>1</td>\n",
       "      <td>2</td>\n",
       "      <td>3</td>\n",
       "      <td>16</td>\n",
       "    </tr>\n",
       "    <tr>\n",
       "      <td>2</td>\n",
       "      <td>3</td>\n",
       "      <td>2</td>\n",
       "      <td>25</td>\n",
       "    </tr>\n",
       "    <tr>\n",
       "      <td>3</td>\n",
       "      <td>4</td>\n",
       "      <td>2</td>\n",
       "      <td>24</td>\n",
       "    </tr>\n",
       "    <tr>\n",
       "      <td>4</td>\n",
       "      <td>5</td>\n",
       "      <td>4</td>\n",
       "      <td>12</td>\n",
       "    </tr>\n",
       "  </tbody>\n",
       "</table>\n",
       "</div>"
      ],
      "text/plain": [
       "   How_Often  Yes  No\n",
       "0          1    0  22\n",
       "1          2    3  16\n",
       "2          3    2  25\n",
       "3          4    2  24\n",
       "4          5    4  12"
      ]
     },
     "execution_count": 20,
     "metadata": {},
     "output_type": "execute_result"
    }
   ],
   "source": [
    "nutritive_value"
   ]
  },
  {
   "cell_type": "code",
   "execution_count": 21,
   "metadata": {},
   "outputs": [
    {
     "data": {
      "image/png": "[encoded data removed]",
      "text/plain": [
       "<Figure size 432x288 with 1 Axes>"
      ]
     },
     "metadata": {
      "needs_background": "light"
     },
     "output_type": "display_data"
    }
   ],
   "source": [
    "#Stacked Area Chart showing the frequency of people who consumes maggi noodles different no. of times stacked by whether they\n",
    "#nutritive_value in it.\n",
    "plt.stackplot(nutritive_value['How_Often'],nutritive_value['Yes'],nutritive_value['No'], colors =[\"#e5383b\",\"#FFB703\"])\n",
    "plt.legend(labels=['Yes','No'], loc=\"upper left\")\n",
    "plt.xlim((1,5))\n",
    "plt.title(\"Do people find Nutritive value in Maggi ?\",fontsize=15, fontweight='bold')\n",
    "plt.xlabel(\"How often does a person consume Maggi\", fontsize=13)\n",
    "plt.ylabel(\"Frequency\", fontsize=13)\n",
    "plt.show()"
   ]
  },
  {
   "cell_type": "markdown",
   "metadata": {},
   "source": [
    "The graph compares how often a person consumes Maggi and whether or not they find any nutritive value in Maggi. It suggests that people who don't find any nutritive value in Maggi either don't consume it or have it very rarely. But at the same time we see that the people who consumes Maggi quite often, also don't find any nutritive value in Maggi. Although there are some people who find it nutritious but their propotion is almost imperceptible."
   ]
  },
  {
   "cell_type": "markdown",
   "metadata": {},
   "source": [
    "The above 2 graphs suggested how people prioritise Taste over Health. Even though they find the product less healthy and safe, their consumption level didn't decline much."
   ]
  },
  {
   "cell_type": "code",
   "execution_count": 22,
   "metadata": {},
   "outputs": [
    {
     "data": {
      "image/png": "[encoded data removed]",
      "text/plain": [
       "<Figure size 432x288 with 1 Axes>"
      ]
     },
     "metadata": {},
     "output_type": "display_data"
    }
   ],
   "source": [
    "#Doughnut Chart showing the percentage of people who consider maggi as their go to meal.\n",
    "\n",
    "colors=[\"#ffed00\",\"#ed232a\"]\n",
    "plt.pie(maggi_data['go_to_meal'].value_counts().values,colors=colors,autopct='%1.1f%%',labels=maggi_data['go_to_meal'].value_counts().index)\n",
    "centre_circle=plt.Circle((0,0),0.50,fc=\"white\")\n",
    "fig=plt.gcf()\n",
    "fig.gca().add_artist(centre_circle)\n",
    "plt.title(\"PERCENTAGE OF PEOPLE WHO CONSIDER MAGGI AS THEIR GO TO MEAL\",fontsize=\"15\",fontweight=\"bold\")\n",
    "plt.show()"
   ]
  },
  {
   "cell_type": "markdown",
   "metadata": {},
   "source": [
    "Yayyy!! Maggi has become the Go-To-Meal for around 60% of the people consuming it."
   ]
  },
  {
   "cell_type": "markdown",
   "metadata": {},
   "source": [
    "## Hypotheses Testing"
   ]
  },
  {
   "cell_type": "markdown",
   "metadata": {},
   "source": [
    "The problem is to test that the two attributes under consideration i.e. \"inc_masala\" and 'masala_magic' are independent or not.<br>\n",
    "Therefore Test of Independence of Attributes need to be used."
   ]
  },
  {
   "cell_type": "markdown",
   "metadata": {},
   "source": [
    "Null Hypotheses(H_0): Attributes are independent<br>\n",
    "Alternative Hypotheses(H_1): Attributes are not independent<p>\n",
    "Level of Significance(alpha)=0.05\n"
   ]
  },
  {
   "cell_type": "code",
   "execution_count": 23,
   "metadata": {},
   "outputs": [
    {
     "name": "stdout",
     "output_type": "stream",
     "text": [
      "masala_magic  No  Yes\n",
      "inc_masala           \n",
      "No            21   20\n",
      "Yes           24   45\n"
     ]
    }
   ],
   "source": [
    "#create a contingency table for 'inc_masala' and 'masala_magic'\n",
    "data_crosstab = pd.crosstab(maggi_data['inc_masala'], maggi_data['masala_magic'], \n",
    "                               margins = False)\n",
    "print(data_crosstab)"
   ]
  },
  {
   "cell_type": "code",
   "execution_count": 52,
   "metadata": {},
   "outputs": [
    {
     "name": "stdout",
     "output_type": "stream",
     "text": [
      "dof=1\n",
      "[[16.77272727 24.22727273]\n",
      " [28.22727273 40.77272727]]\n",
      "probability=0.950, critical=3.841, stat=2.235\n",
      "significance=0.050, p=0.135\n"
     ]
    }
   ],
   "source": [
    "#Performing chi square test to test the independence of attributes\n",
    "from scipy.stats import chi2_contingency\n",
    "from scipy.stats import chi2\n",
    "stat, p, dof, expected = chi2_contingency(data_crosstab)\n",
    "print('dof=%d' % dof)\n",
    "print(expected)\n",
    "# interpret test-statistic\n",
    "prob = 0.95\n",
    "critical = chi2.ppf(prob, dof)\n",
    "print('probability=%.3f, critical=%.3f, stat=%.3f' % (prob, critical, stat))\n",
    "# interpret p-value\n",
    "alpha = 1.0 - prob\n",
    "print('significance=%.3f, p=%.3f' % (alpha, p))\n"
   ]
  },
  {
   "cell_type": "markdown",
   "metadata": {},
   "source": [
    "Since p value(0.135) is greater than level of significance(0.05), null hyopotheses may be accepted.<br>\n",
    "There is not enough statistical evidence to conclude that Attributes are dependent.<p>\n",
    "Therefore there is no relation between whether a person wants tastemaker size to be increased and if he/she buys maggi masala-ae-magic with maggi noodles."
   ]
  },
  {
   "cell_type": "code",
   "execution_count": 25,
   "metadata": {},
   "outputs": [
    {
     "data": {
      "text/plain": [
       "Text(0.5, 1.0, 'Do people want Maggi to increase its tastemaker size at the cost of increased prices?')"
      ]
     },
     "execution_count": 25,
     "metadata": {},
     "output_type": "execute_result"
    },
    {
     "data": {
      "image/png": "[encoded data removed]",
      "text/plain": [
       "<Figure size 432x288 with 1 Axes>"
      ]
     },
     "metadata": {
      "needs_background": "light"
     },
     "output_type": "display_data"
    }
   ],
   "source": [
    "#Bar chart showiwng the frequency of people who want/doesn't want Maggi to increase its taste maker size.\n",
    "sns.countplot(x=maggi_data['inc_masala'], data= maggi_data ,palette=[\"#ffed00\",'#ed232a']).set_title('Do people want Maggi to increase it''s tastemaker size at the cost of increased prices?',fontdict= { 'fontsize': 16, 'fontweight':'bold'})"
   ]
  },
  {
   "cell_type": "markdown",
   "metadata": {},
   "source": [
    "Yes, people want Maggi to increase its Tastemaker size. These people are also willing to pay extra price.\n",
    "However there are around 38% of people who might or might not want Maggi to increase the size of its tastemaker but they defenitely don't want Maggi to increase cost."
   ]
  },
  {
   "cell_type": "markdown",
   "metadata": {},
   "source": [
    "## Cluster Analysis"
   ]
  },
  {
   "cell_type": "code",
   "execution_count": 26,
   "metadata": {},
   "outputs": [],
   "source": [
    "#Import the KMeans module so we can perform k-means clustering with sklearn\n",
    "from sklearn.cluster import KMeans"
   ]
  },
  {
   "cell_type": "code",
   "execution_count": 27,
   "metadata": {},
   "outputs": [
    {
     "data": {
      "text/html": [
       "<div>\n",
       "<style scoped>\n",
       "    .dataframe tbody tr th:only-of-type {\n",
       "        vertical-align: middle;\n",
       "    }\n",
       "\n",
       "    .dataframe tbody tr th {\n",
       "        vertical-align: top;\n",
       "    }\n",
       "\n",
       "    .dataframe thead th {\n",
       "        text-align: right;\n",
       "    }\n",
       "</style>\n",
       "<table border=\"1\" class=\"dataframe\">\n",
       "  <thead>\n",
       "    <tr style=\"text-align: right;\">\n",
       "      <th></th>\n",
       "      <th>age</th>\n",
       "      <th>number_of_times</th>\n",
       "      <th>consumption(in pkt)</th>\n",
       "      <th>competitors</th>\n",
       "      <th>add_ingredients</th>\n",
       "      <th>ingredients</th>\n",
       "      <th>go_to_meal</th>\n",
       "      <th>effect_of_lead</th>\n",
       "      <th>nutritive_value</th>\n",
       "      <th>rs15pack</th>\n",
       "      <th>masala_magic</th>\n",
       "      <th>inc_masala</th>\n",
       "    </tr>\n",
       "  </thead>\n",
       "  <tbody>\n",
       "    <tr>\n",
       "      <td>0</td>\n",
       "      <td>18-26</td>\n",
       "      <td>4</td>\n",
       "      <td>1</td>\n",
       "      <td>Yippee</td>\n",
       "      <td>Yes</td>\n",
       "      <td>Sauces;Spices(oregano, chili flakes, etc.)</td>\n",
       "      <td>Yes</td>\n",
       "      <td>No, It's still the same</td>\n",
       "      <td>No</td>\n",
       "      <td>Yes</td>\n",
       "      <td>Yes</td>\n",
       "      <td>Yes</td>\n",
       "    </tr>\n",
       "    <tr>\n",
       "      <td>1</td>\n",
       "      <td>18-26</td>\n",
       "      <td>3</td>\n",
       "      <td>1</td>\n",
       "      <td>Yippee</td>\n",
       "      <td>Yes</td>\n",
       "      <td>Veggies;Sauces;Spices(oregano, chili flakes, e...</td>\n",
       "      <td>Yes</td>\n",
       "      <td>Yes, It did</td>\n",
       "      <td>No</td>\n",
       "      <td>No</td>\n",
       "      <td>No</td>\n",
       "      <td>Yes</td>\n",
       "    </tr>\n",
       "    <tr>\n",
       "      <td>2</td>\n",
       "      <td>18-26</td>\n",
       "      <td>3</td>\n",
       "      <td>2</td>\n",
       "      <td>Yippee</td>\n",
       "      <td>Yes</td>\n",
       "      <td>Spices(oregano, chili flakes, etc.);Other</td>\n",
       "      <td>No</td>\n",
       "      <td>Yes, It did</td>\n",
       "      <td>No</td>\n",
       "      <td>No</td>\n",
       "      <td>Yes</td>\n",
       "      <td>Yes</td>\n",
       "    </tr>\n",
       "    <tr>\n",
       "      <td>3</td>\n",
       "      <td>18-26</td>\n",
       "      <td>1</td>\n",
       "      <td>2</td>\n",
       "      <td>Yippee</td>\n",
       "      <td>Yes</td>\n",
       "      <td>Veggies;Spices(oregano, chili flakes, etc.);Cr...</td>\n",
       "      <td>No</td>\n",
       "      <td>Yes, It did</td>\n",
       "      <td>No</td>\n",
       "      <td>No</td>\n",
       "      <td>Yes</td>\n",
       "      <td>Yes</td>\n",
       "    </tr>\n",
       "    <tr>\n",
       "      <td>4</td>\n",
       "      <td>18-26</td>\n",
       "      <td>5</td>\n",
       "      <td>2</td>\n",
       "      <td>Yippee</td>\n",
       "      <td>No</td>\n",
       "      <td>Cream/Cheese</td>\n",
       "      <td>Yes</td>\n",
       "      <td>No, It's still the same</td>\n",
       "      <td>No</td>\n",
       "      <td>Yes</td>\n",
       "      <td>No</td>\n",
       "      <td>No</td>\n",
       "    </tr>\n",
       "    <tr>\n",
       "      <td>...</td>\n",
       "      <td>...</td>\n",
       "      <td>...</td>\n",
       "      <td>...</td>\n",
       "      <td>...</td>\n",
       "      <td>...</td>\n",
       "      <td>...</td>\n",
       "      <td>...</td>\n",
       "      <td>...</td>\n",
       "      <td>...</td>\n",
       "      <td>...</td>\n",
       "      <td>...</td>\n",
       "      <td>...</td>\n",
       "    </tr>\n",
       "    <tr>\n",
       "      <td>105</td>\n",
       "      <td>18-26</td>\n",
       "      <td>1</td>\n",
       "      <td>2</td>\n",
       "      <td>Yippee</td>\n",
       "      <td>No</td>\n",
       "      <td>NaN</td>\n",
       "      <td>Yes</td>\n",
       "      <td>No, It's still the same</td>\n",
       "      <td>No</td>\n",
       "      <td>Yes</td>\n",
       "      <td>Yes</td>\n",
       "      <td>Yes</td>\n",
       "    </tr>\n",
       "    <tr>\n",
       "      <td>106</td>\n",
       "      <td>18-26</td>\n",
       "      <td>2</td>\n",
       "      <td>2</td>\n",
       "      <td>Yippee</td>\n",
       "      <td>Yes</td>\n",
       "      <td>Veggies;Spices(oregano, chili flakes, etc.)</td>\n",
       "      <td>Yes</td>\n",
       "      <td>No, It's still the same</td>\n",
       "      <td>No</td>\n",
       "      <td>Yes</td>\n",
       "      <td>Yes</td>\n",
       "      <td>Yes</td>\n",
       "    </tr>\n",
       "    <tr>\n",
       "      <td>107</td>\n",
       "      <td>18-26</td>\n",
       "      <td>5</td>\n",
       "      <td>2</td>\n",
       "      <td>Top Ramen</td>\n",
       "      <td>Yes</td>\n",
       "      <td>Veggies;Sauces;Spices(oregano, chili flakes, e...</td>\n",
       "      <td>Yes</td>\n",
       "      <td>No, It's still the same</td>\n",
       "      <td>Yes</td>\n",
       "      <td>Yes</td>\n",
       "      <td>Yes</td>\n",
       "      <td>Yes</td>\n",
       "    </tr>\n",
       "    <tr>\n",
       "      <td>108</td>\n",
       "      <td>18-26</td>\n",
       "      <td>2</td>\n",
       "      <td>1</td>\n",
       "      <td>Top Ramen</td>\n",
       "      <td>Yes</td>\n",
       "      <td>Veggies;Spices(oregano, chili flakes, etc.);Cr...</td>\n",
       "      <td>No</td>\n",
       "      <td>Yes, It did</td>\n",
       "      <td>No</td>\n",
       "      <td>Yes</td>\n",
       "      <td>Yes</td>\n",
       "      <td>No</td>\n",
       "    </tr>\n",
       "    <tr>\n",
       "      <td>109</td>\n",
       "      <td>18-26</td>\n",
       "      <td>2</td>\n",
       "      <td>1</td>\n",
       "      <td>Yippee</td>\n",
       "      <td>Yes</td>\n",
       "      <td>Veggies;Spices(oregano, chili flakes, etc.)</td>\n",
       "      <td>Yes</td>\n",
       "      <td>Yes, It did</td>\n",
       "      <td>No</td>\n",
       "      <td>Yes</td>\n",
       "      <td>Yes</td>\n",
       "      <td>Yes</td>\n",
       "    </tr>\n",
       "  </tbody>\n",
       "</table>\n",
       "<p>110 rows × 12 columns</p>\n",
       "</div>"
      ],
      "text/plain": [
       "       age  number_of_times  consumption(in pkt) competitors add_ingredients  \\\n",
       "0    18-26                4                    1      Yippee             Yes   \n",
       "1    18-26                3                    1      Yippee             Yes   \n",
       "2    18-26                3                    2      Yippee             Yes   \n",
       "3    18-26                1                    2      Yippee             Yes   \n",
       "4    18-26                5                    2      Yippee              No   \n",
       "..     ...              ...                  ...         ...             ...   \n",
       "105  18-26                1                    2      Yippee              No   \n",
       "106  18-26                2                    2      Yippee             Yes   \n",
       "107  18-26                5                    2   Top Ramen             Yes   \n",
       "108  18-26                2                    1   Top Ramen             Yes   \n",
       "109  18-26                2                    1      Yippee             Yes   \n",
       "\n",
       "                                           ingredients go_to_meal  \\\n",
       "0           Sauces;Spices(oregano, chili flakes, etc.)        Yes   \n",
       "1    Veggies;Sauces;Spices(oregano, chili flakes, e...        Yes   \n",
       "2            Spices(oregano, chili flakes, etc.);Other         No   \n",
       "3    Veggies;Spices(oregano, chili flakes, etc.);Cr...         No   \n",
       "4                                         Cream/Cheese        Yes   \n",
       "..                                                 ...        ...   \n",
       "105                                                NaN        Yes   \n",
       "106        Veggies;Spices(oregano, chili flakes, etc.)        Yes   \n",
       "107  Veggies;Sauces;Spices(oregano, chili flakes, e...        Yes   \n",
       "108  Veggies;Spices(oregano, chili flakes, etc.);Cr...         No   \n",
       "109        Veggies;Spices(oregano, chili flakes, etc.)        Yes   \n",
       "\n",
       "              effect_of_lead nutritive_value rs15pack masala_magic inc_masala  \n",
       "0    No, It's still the same              No      Yes          Yes        Yes  \n",
       "1                Yes, It did              No       No           No        Yes  \n",
       "2                Yes, It did              No       No          Yes        Yes  \n",
       "3                Yes, It did              No       No          Yes        Yes  \n",
       "4    No, It's still the same              No      Yes           No         No  \n",
       "..                       ...             ...      ...          ...        ...  \n",
       "105  No, It's still the same              No      Yes          Yes        Yes  \n",
       "106  No, It's still the same              No      Yes          Yes        Yes  \n",
       "107  No, It's still the same             Yes      Yes          Yes        Yes  \n",
       "108              Yes, It did              No      Yes          Yes         No  \n",
       "109              Yes, It did              No      Yes          Yes        Yes  \n",
       "\n",
       "[110 rows x 12 columns]"
      ]
     },
     "execution_count": 27,
     "metadata": {},
     "output_type": "execute_result"
    }
   ],
   "source": [
    "maggi_data"
   ]
  },
  {
   "cell_type": "code",
   "execution_count": 28,
   "metadata": {},
   "outputs": [
    {
     "data": {
      "text/html": [
       "<div>\n",
       "<style scoped>\n",
       "    .dataframe tbody tr th:only-of-type {\n",
       "        vertical-align: middle;\n",
       "    }\n",
       "\n",
       "    .dataframe tbody tr th {\n",
       "        vertical-align: top;\n",
       "    }\n",
       "\n",
       "    .dataframe thead th {\n",
       "        text-align: right;\n",
       "    }\n",
       "</style>\n",
       "<table border=\"1\" class=\"dataframe\">\n",
       "  <thead>\n",
       "    <tr style=\"text-align: right;\">\n",
       "      <th></th>\n",
       "      <th>consumption(in pkt)</th>\n",
       "      <th>number_of_times</th>\n",
       "    </tr>\n",
       "  </thead>\n",
       "  <tbody>\n",
       "    <tr>\n",
       "      <td>0</td>\n",
       "      <td>1</td>\n",
       "      <td>4</td>\n",
       "    </tr>\n",
       "    <tr>\n",
       "      <td>1</td>\n",
       "      <td>1</td>\n",
       "      <td>3</td>\n",
       "    </tr>\n",
       "    <tr>\n",
       "      <td>2</td>\n",
       "      <td>2</td>\n",
       "      <td>3</td>\n",
       "    </tr>\n",
       "    <tr>\n",
       "      <td>3</td>\n",
       "      <td>2</td>\n",
       "      <td>1</td>\n",
       "    </tr>\n",
       "    <tr>\n",
       "      <td>4</td>\n",
       "      <td>2</td>\n",
       "      <td>5</td>\n",
       "    </tr>\n",
       "    <tr>\n",
       "      <td>...</td>\n",
       "      <td>...</td>\n",
       "      <td>...</td>\n",
       "    </tr>\n",
       "    <tr>\n",
       "      <td>105</td>\n",
       "      <td>2</td>\n",
       "      <td>1</td>\n",
       "    </tr>\n",
       "    <tr>\n",
       "      <td>106</td>\n",
       "      <td>2</td>\n",
       "      <td>2</td>\n",
       "    </tr>\n",
       "    <tr>\n",
       "      <td>107</td>\n",
       "      <td>2</td>\n",
       "      <td>5</td>\n",
       "    </tr>\n",
       "    <tr>\n",
       "      <td>108</td>\n",
       "      <td>1</td>\n",
       "      <td>2</td>\n",
       "    </tr>\n",
       "    <tr>\n",
       "      <td>109</td>\n",
       "      <td>1</td>\n",
       "      <td>2</td>\n",
       "    </tr>\n",
       "  </tbody>\n",
       "</table>\n",
       "<p>110 rows × 2 columns</p>\n",
       "</div>"
      ],
      "text/plain": [
       "     consumption(in pkt)  number_of_times\n",
       "0                      1                4\n",
       "1                      1                3\n",
       "2                      2                3\n",
       "3                      2                1\n",
       "4                      2                5\n",
       "..                   ...              ...\n",
       "105                    2                1\n",
       "106                    2                2\n",
       "107                    2                5\n",
       "108                    1                2\n",
       "109                    1                2\n",
       "\n",
       "[110 rows x 2 columns]"
      ]
     },
     "execution_count": 28,
     "metadata": {},
     "output_type": "execute_result"
    }
   ],
   "source": [
    "#Create a dataframe that contains 'ExpenseRating' and 'FieldRating' columns\n",
    "cluster_df = pd.DataFrame({'consumption(in pkt)':maggi_data['consumption(in pkt)'], 'number_of_times':maggi_data['number_of_times']})\n",
    "cluster_df"
   ]
  },
  {
   "cell_type": "code",
   "execution_count": 29,
   "metadata": {},
   "outputs": [
    {
     "data": {
      "image/png": "[encoded data removed]",
      "text/plain": [
       "<Figure size 432x288 with 1 Axes>"
      ]
     },
     "metadata": {
      "needs_background": "light"
     },
     "output_type": "display_data"
    }
   ],
   "source": [
    "#Plotting the data using scatter plot\n",
    "plt.scatter(cluster_df['number_of_times'],cluster_df['consumption(in pkt)']) \n",
    "\n",
    "plt.xlabel('number_of_times')\n",
    "plt.ylabel('consumption(in pkt)')\n",
    "plt.show()"
   ]
  },
  {
   "cell_type": "code",
   "execution_count": 30,
   "metadata": {},
   "outputs": [
    {
     "data": {
      "text/plain": [
       "[223.87272727272727,\n",
       " 78.47578649699541,\n",
       " 46.72009291521487,\n",
       " 36.52403736614263,\n",
       " 24.035942128047388,\n",
       " 17.928799270904534]"
      ]
     },
     "execution_count": 30,
     "metadata": {},
     "output_type": "execute_result"
    }
   ],
   "source": [
    "# Create an empty list\n",
    "wcss=[]\n",
    "\n",
    "# Create all possible cluster solutions with a loop\n",
    "for i in range(1,7):\n",
    "    # Cluster solution with i clusters\n",
    "    kmeans = KMeans(i)\n",
    "    # Fit the data\n",
    "    kmeans.fit(cluster_df)\n",
    "    # Find WCSS for the current iteration\n",
    "    wcss_iter = kmeans.inertia_\n",
    "    # Append the value to the WCSS list\n",
    "    wcss.append(wcss_iter)\n",
    "wcss"
   ]
  },
  {
   "cell_type": "code",
   "execution_count": 31,
   "metadata": {},
   "outputs": [
    {
     "data": {
      "image/png": "[encoded data removed]",
      "text/plain": [
       "<Figure size 432x288 with 1 Axes>"
      ]
     },
     "metadata": {
      "needs_background": "light"
     },
     "output_type": "display_data"
    }
   ],
   "source": [
    "# Create a variable containing the numbers from 1 to 6, so we can use it as X axis of the future plot\n",
    "number_clusters = range(1,7)\n",
    "# Plot the number of clusters vs WCSS\n",
    "plt.plot(number_clusters,wcss)\n",
    "# Name the graph\n",
    "plt.title('The Elbow Method')\n",
    "# Name the x-axis\n",
    "plt.xlabel('Number of clusters')\n",
    "# Name the y-axis\n",
    "plt.ylabel('Within-cluster Sum of Squares')\n",
    "plt.show()"
   ]
  },
  {
   "cell_type": "markdown",
   "metadata": {},
   "source": [
    "We want WCSS to be as low as possible while we can still have small no. of clusters so we could interpret them.<br>\n",
    "In the above graph, we are getting two elbow points i.e. at 2 and 3<br>\n",
    "3 is the biggest no. of cluster for which we are still getting the significant decrease in WCSS. Thereafter there is almost no improvement.<p>\n",
    "So we will go with 3 cluster solution. "
   ]
  },
  {
   "cell_type": "code",
   "execution_count": 32,
   "metadata": {},
   "outputs": [
    {
     "data": {
      "text/plain": [
       "KMeans(algorithm='auto', copy_x=True, init='k-means++', max_iter=300,\n",
       "       n_clusters=3, n_init=10, n_jobs=None, precompute_distances='auto',\n",
       "       random_state=None, tol=0.0001, verbose=0)"
      ]
     },
     "execution_count": 32,
     "metadata": {},
     "output_type": "execute_result"
    }
   ],
   "source": [
    "# Create an object (which we would call kmeans)\n",
    "kmeans = KMeans(3)\n",
    "#  Fit the input data, i.e. cluster the data in cluster_df in 3 clusters\n",
    "kmeans.fit(cluster_df)"
   ]
  },
  {
   "cell_type": "code",
   "execution_count": 33,
   "metadata": {},
   "outputs": [
    {
     "data": {
      "text/plain": [
       "Text(0.5, 1.0, 'Consumption Analysis')"
      ]
     },
     "execution_count": 33,
     "metadata": {},
     "output_type": "execute_result"
    },
    {
     "data": {
      "image/png": "[encoded data removed]",
      "text/plain": [
       "<Figure size 432x288 with 1 Axes>"
      ]
     },
     "metadata": {
      "needs_background": "light"
     },
     "output_type": "display_data"
    }
   ],
   "source": [
    "#Create a copy of 'cluster_df' dataframe \n",
    "clusters = cluster_df.copy() \n",
    "#Create a new column, containing the predicted clusters for each observation.\n",
    "clusters['cluster_pred']=kmeans.fit_predict(cluster_df)\n",
    "## Plot the data using the 'number_of_times' and 'consumption(in pkt)'\n",
    "# c (color) is an argument which could be coded with a variable \n",
    "# The variable in this case has values 0,1,2, indicating to plt.scatter, that there are three colors (0,1,2)\n",
    "# All points in cluster 0 will be the same colour, all points in cluster 1 - another one, etc.\n",
    "# cmap is the color map\n",
    "plt.scatter(clusters['number_of_times'],clusters['consumption(in pkt)'],c=clusters['cluster_pred'],cmap='rainbow', alpha=0.5)\n",
    "plt.xlabel('number_of_times',fontsize=13)\n",
    "plt.ylim(0,4)\n",
    "plt.ylabel('consumption(in pkt)',fontsize=13)\n",
    "plt.title(\"Consumption Analysis\", fontsize=16)\n"
   ]
  },
  {
   "cell_type": "markdown",
   "metadata": {},
   "source": [
    "**1st cluster** (People who consume maggi noodles less often and consume not more than 2 packs at a time): *Dissatisfied Customers* <br>\n",
    "**2nd cluster** (People who consume maggi noodles once in two weeks and consume not more than 2 packs at a time): *Stable Customers*<br>\n",
    "**3rd cluster** (People who consume maggi noodles quite often): *Best Customers*"
   ]
  },
  {
   "cell_type": "code",
   "execution_count": 34,
   "metadata": {},
   "outputs": [],
   "source": [
    "#Create a dataframe of records included in 1st cluster i.e. cluster of lower consumption.\n",
    "low_consumption=clusters[clusters['cluster_pred']==1]"
   ]
  },
  {
   "cell_type": "code",
   "execution_count": 35,
   "metadata": {},
   "outputs": [],
   "source": [
    "#Create a list object  that contains nutritive_value response of the people whose consumption is low.\n",
    "a=[]\n",
    "for i in low_consumption.index:\n",
    "    a.append(maggi_data['nutritive_value'][i])"
   ]
  },
  {
   "cell_type": "code",
   "execution_count": 36,
   "metadata": {},
   "outputs": [],
   "source": [
    "#Create a list object  that contains effect_of_lead response of the people whose consumption is low.\n",
    "b=[]\n",
    "for i in low_consumption.index:\n",
    "    b.append(maggi_data['effect_of_lead'][i])"
   ]
  },
  {
   "cell_type": "code",
   "execution_count": 37,
   "metadata": {},
   "outputs": [
    {
     "name": "stderr",
     "output_type": "stream",
     "text": [
      "C:\\Users\\Dell\\Anaconda3\\lib\\site-packages\\ipykernel_launcher.py:2: SettingWithCopyWarning: \n",
      "A value is trying to be set on a copy of a slice from a DataFrame.\n",
      "Try using .loc[row_indexer,col_indexer] = value instead\n",
      "\n",
      "See the caveats in the documentation: http://pandas.pydata.org/pandas-docs/stable/user_guide/indexing.html#returning-a-view-versus-a-copy\n",
      "  \n",
      "C:\\Users\\Dell\\Anaconda3\\lib\\site-packages\\ipykernel_launcher.py:3: SettingWithCopyWarning: \n",
      "A value is trying to be set on a copy of a slice from a DataFrame.\n",
      "Try using .loc[row_indexer,col_indexer] = value instead\n",
      "\n",
      "See the caveats in the documentation: http://pandas.pydata.org/pandas-docs/stable/user_guide/indexing.html#returning-a-view-versus-a-copy\n",
      "  This is separate from the ipykernel package so we can avoid doing imports until\n"
     ]
    },
    {
     "data": {
      "text/html": [
       "<div>\n",
       "<style scoped>\n",
       "    .dataframe tbody tr th:only-of-type {\n",
       "        vertical-align: middle;\n",
       "    }\n",
       "\n",
       "    .dataframe tbody tr th {\n",
       "        vertical-align: top;\n",
       "    }\n",
       "\n",
       "    .dataframe thead th {\n",
       "        text-align: right;\n",
       "    }\n",
       "</style>\n",
       "<table border=\"1\" class=\"dataframe\">\n",
       "  <thead>\n",
       "    <tr style=\"text-align: right;\">\n",
       "      <th></th>\n",
       "      <th>consumption(in pkt)</th>\n",
       "      <th>number_of_times</th>\n",
       "      <th>cluster_pred</th>\n",
       "      <th>nutritive_value</th>\n",
       "      <th>effect_of_lead</th>\n",
       "    </tr>\n",
       "  </thead>\n",
       "  <tbody>\n",
       "    <tr>\n",
       "      <td>0</td>\n",
       "      <td>1</td>\n",
       "      <td>4</td>\n",
       "      <td>1</td>\n",
       "      <td>No</td>\n",
       "      <td>No, It's still the same</td>\n",
       "    </tr>\n",
       "    <tr>\n",
       "      <td>4</td>\n",
       "      <td>2</td>\n",
       "      <td>5</td>\n",
       "      <td>1</td>\n",
       "      <td>No</td>\n",
       "      <td>No, It's still the same</td>\n",
       "    </tr>\n",
       "    <tr>\n",
       "      <td>5</td>\n",
       "      <td>1</td>\n",
       "      <td>4</td>\n",
       "      <td>1</td>\n",
       "      <td>No</td>\n",
       "      <td>No, It's still the same</td>\n",
       "    </tr>\n",
       "    <tr>\n",
       "      <td>8</td>\n",
       "      <td>2</td>\n",
       "      <td>4</td>\n",
       "      <td>1</td>\n",
       "      <td>Yes</td>\n",
       "      <td>No, It's still the same</td>\n",
       "    </tr>\n",
       "    <tr>\n",
       "      <td>9</td>\n",
       "      <td>1</td>\n",
       "      <td>4</td>\n",
       "      <td>1</td>\n",
       "      <td>No</td>\n",
       "      <td>Yes, It did</td>\n",
       "    </tr>\n",
       "    <tr>\n",
       "      <td>10</td>\n",
       "      <td>1</td>\n",
       "      <td>4</td>\n",
       "      <td>1</td>\n",
       "      <td>Yes</td>\n",
       "      <td>No, It's still the same</td>\n",
       "    </tr>\n",
       "    <tr>\n",
       "      <td>17</td>\n",
       "      <td>1</td>\n",
       "      <td>4</td>\n",
       "      <td>1</td>\n",
       "      <td>No</td>\n",
       "      <td>No, It's still the same</td>\n",
       "    </tr>\n",
       "    <tr>\n",
       "      <td>24</td>\n",
       "      <td>1</td>\n",
       "      <td>4</td>\n",
       "      <td>1</td>\n",
       "      <td>No</td>\n",
       "      <td>No, It's still the same</td>\n",
       "    </tr>\n",
       "    <tr>\n",
       "      <td>25</td>\n",
       "      <td>2</td>\n",
       "      <td>5</td>\n",
       "      <td>1</td>\n",
       "      <td>No</td>\n",
       "      <td>No, It's still the same</td>\n",
       "    </tr>\n",
       "    <tr>\n",
       "      <td>34</td>\n",
       "      <td>1</td>\n",
       "      <td>4</td>\n",
       "      <td>1</td>\n",
       "      <td>No</td>\n",
       "      <td>No, It's still the same</td>\n",
       "    </tr>\n",
       "    <tr>\n",
       "      <td>35</td>\n",
       "      <td>3</td>\n",
       "      <td>5</td>\n",
       "      <td>1</td>\n",
       "      <td>No</td>\n",
       "      <td>No, It's still the same</td>\n",
       "    </tr>\n",
       "    <tr>\n",
       "      <td>36</td>\n",
       "      <td>2</td>\n",
       "      <td>4</td>\n",
       "      <td>1</td>\n",
       "      <td>No</td>\n",
       "      <td>No, It's still the same</td>\n",
       "    </tr>\n",
       "    <tr>\n",
       "      <td>37</td>\n",
       "      <td>1</td>\n",
       "      <td>4</td>\n",
       "      <td>1</td>\n",
       "      <td>No</td>\n",
       "      <td>No, It's still the same</td>\n",
       "    </tr>\n",
       "    <tr>\n",
       "      <td>38</td>\n",
       "      <td>1</td>\n",
       "      <td>4</td>\n",
       "      <td>1</td>\n",
       "      <td>No</td>\n",
       "      <td>No, It's still the same</td>\n",
       "    </tr>\n",
       "    <tr>\n",
       "      <td>39</td>\n",
       "      <td>1</td>\n",
       "      <td>4</td>\n",
       "      <td>1</td>\n",
       "      <td>No</td>\n",
       "      <td>No, It's still the same</td>\n",
       "    </tr>\n",
       "    <tr>\n",
       "      <td>42</td>\n",
       "      <td>1</td>\n",
       "      <td>4</td>\n",
       "      <td>1</td>\n",
       "      <td>No</td>\n",
       "      <td>No, It's still the same</td>\n",
       "    </tr>\n",
       "    <tr>\n",
       "      <td>43</td>\n",
       "      <td>2</td>\n",
       "      <td>5</td>\n",
       "      <td>1</td>\n",
       "      <td>Yes</td>\n",
       "      <td>No, It's still the same</td>\n",
       "    </tr>\n",
       "    <tr>\n",
       "      <td>44</td>\n",
       "      <td>1</td>\n",
       "      <td>4</td>\n",
       "      <td>1</td>\n",
       "      <td>No</td>\n",
       "      <td>No, It's still the same</td>\n",
       "    </tr>\n",
       "    <tr>\n",
       "      <td>49</td>\n",
       "      <td>3</td>\n",
       "      <td>4</td>\n",
       "      <td>1</td>\n",
       "      <td>No</td>\n",
       "      <td>No, It's still the same</td>\n",
       "    </tr>\n",
       "    <tr>\n",
       "      <td>57</td>\n",
       "      <td>1</td>\n",
       "      <td>5</td>\n",
       "      <td>1</td>\n",
       "      <td>No</td>\n",
       "      <td>Yes, It did</td>\n",
       "    </tr>\n",
       "    <tr>\n",
       "      <td>60</td>\n",
       "      <td>2</td>\n",
       "      <td>5</td>\n",
       "      <td>1</td>\n",
       "      <td>No</td>\n",
       "      <td>Yes, It did</td>\n",
       "    </tr>\n",
       "    <tr>\n",
       "      <td>62</td>\n",
       "      <td>2</td>\n",
       "      <td>4</td>\n",
       "      <td>1</td>\n",
       "      <td>No</td>\n",
       "      <td>No, It's still the same</td>\n",
       "    </tr>\n",
       "    <tr>\n",
       "      <td>65</td>\n",
       "      <td>1</td>\n",
       "      <td>4</td>\n",
       "      <td>1</td>\n",
       "      <td>No</td>\n",
       "      <td>Yes, It did</td>\n",
       "    </tr>\n",
       "    <tr>\n",
       "      <td>68</td>\n",
       "      <td>1</td>\n",
       "      <td>4</td>\n",
       "      <td>1</td>\n",
       "      <td>No</td>\n",
       "      <td>No, It's still the same</td>\n",
       "    </tr>\n",
       "    <tr>\n",
       "      <td>70</td>\n",
       "      <td>1</td>\n",
       "      <td>4</td>\n",
       "      <td>1</td>\n",
       "      <td>No</td>\n",
       "      <td>Yes, It did</td>\n",
       "    </tr>\n",
       "    <tr>\n",
       "      <td>71</td>\n",
       "      <td>2</td>\n",
       "      <td>4</td>\n",
       "      <td>1</td>\n",
       "      <td>No</td>\n",
       "      <td>Yes, It did</td>\n",
       "    </tr>\n",
       "    <tr>\n",
       "      <td>73</td>\n",
       "      <td>1</td>\n",
       "      <td>5</td>\n",
       "      <td>1</td>\n",
       "      <td>No</td>\n",
       "      <td>No, It's still the same</td>\n",
       "    </tr>\n",
       "    <tr>\n",
       "      <td>74</td>\n",
       "      <td>1</td>\n",
       "      <td>5</td>\n",
       "      <td>1</td>\n",
       "      <td>No</td>\n",
       "      <td>Yes, It did</td>\n",
       "    </tr>\n",
       "    <tr>\n",
       "      <td>81</td>\n",
       "      <td>2</td>\n",
       "      <td>4</td>\n",
       "      <td>1</td>\n",
       "      <td>No</td>\n",
       "      <td>No, It's still the same</td>\n",
       "    </tr>\n",
       "    <tr>\n",
       "      <td>83</td>\n",
       "      <td>1</td>\n",
       "      <td>4</td>\n",
       "      <td>1</td>\n",
       "      <td>No</td>\n",
       "      <td>No, It's still the same</td>\n",
       "    </tr>\n",
       "    <tr>\n",
       "      <td>85</td>\n",
       "      <td>1</td>\n",
       "      <td>4</td>\n",
       "      <td>1</td>\n",
       "      <td>No</td>\n",
       "      <td>Yes, It did</td>\n",
       "    </tr>\n",
       "    <tr>\n",
       "      <td>87</td>\n",
       "      <td>1</td>\n",
       "      <td>5</td>\n",
       "      <td>1</td>\n",
       "      <td>No</td>\n",
       "      <td>No, It's still the same</td>\n",
       "    </tr>\n",
       "    <tr>\n",
       "      <td>88</td>\n",
       "      <td>1</td>\n",
       "      <td>5</td>\n",
       "      <td>1</td>\n",
       "      <td>No</td>\n",
       "      <td>Yes, It did</td>\n",
       "    </tr>\n",
       "    <tr>\n",
       "      <td>89</td>\n",
       "      <td>1</td>\n",
       "      <td>5</td>\n",
       "      <td>1</td>\n",
       "      <td>Yes</td>\n",
       "      <td>Yes, It did</td>\n",
       "    </tr>\n",
       "    <tr>\n",
       "      <td>95</td>\n",
       "      <td>1</td>\n",
       "      <td>4</td>\n",
       "      <td>1</td>\n",
       "      <td>No</td>\n",
       "      <td>Yes, It did</td>\n",
       "    </tr>\n",
       "    <tr>\n",
       "      <td>96</td>\n",
       "      <td>2</td>\n",
       "      <td>4</td>\n",
       "      <td>1</td>\n",
       "      <td>No</td>\n",
       "      <td>No, It's still the same</td>\n",
       "    </tr>\n",
       "    <tr>\n",
       "      <td>97</td>\n",
       "      <td>1</td>\n",
       "      <td>5</td>\n",
       "      <td>1</td>\n",
       "      <td>No</td>\n",
       "      <td>Yes, It did</td>\n",
       "    </tr>\n",
       "    <tr>\n",
       "      <td>98</td>\n",
       "      <td>1</td>\n",
       "      <td>5</td>\n",
       "      <td>1</td>\n",
       "      <td>Yes</td>\n",
       "      <td>Yes, It did</td>\n",
       "    </tr>\n",
       "    <tr>\n",
       "      <td>101</td>\n",
       "      <td>1</td>\n",
       "      <td>4</td>\n",
       "      <td>1</td>\n",
       "      <td>No</td>\n",
       "      <td>No, It's still the same</td>\n",
       "    </tr>\n",
       "    <tr>\n",
       "      <td>102</td>\n",
       "      <td>1</td>\n",
       "      <td>5</td>\n",
       "      <td>1</td>\n",
       "      <td>No</td>\n",
       "      <td>Yes, It did</td>\n",
       "    </tr>\n",
       "    <tr>\n",
       "      <td>104</td>\n",
       "      <td>2</td>\n",
       "      <td>5</td>\n",
       "      <td>1</td>\n",
       "      <td>No</td>\n",
       "      <td>No, It's still the same</td>\n",
       "    </tr>\n",
       "    <tr>\n",
       "      <td>107</td>\n",
       "      <td>2</td>\n",
       "      <td>5</td>\n",
       "      <td>1</td>\n",
       "      <td>Yes</td>\n",
       "      <td>No, It's still the same</td>\n",
       "    </tr>\n",
       "  </tbody>\n",
       "</table>\n",
       "</div>"
      ],
      "text/plain": [
       "     consumption(in pkt)  number_of_times  cluster_pred nutritive_value  \\\n",
       "0                      1                4             1              No   \n",
       "4                      2                5             1              No   \n",
       "5                      1                4             1              No   \n",
       "8                      2                4             1             Yes   \n",
       "9                      1                4             1              No   \n",
       "10                     1                4             1             Yes   \n",
       "17                     1                4             1              No   \n",
       "24                     1                4             1              No   \n",
       "25                     2                5             1              No   \n",
       "34                     1                4             1              No   \n",
       "35                     3                5             1              No   \n",
       "36                     2                4             1              No   \n",
       "37                     1                4             1              No   \n",
       "38                     1                4             1              No   \n",
       "39                     1                4             1              No   \n",
       "42                     1                4             1              No   \n",
       "43                     2                5             1             Yes   \n",
       "44                     1                4             1              No   \n",
       "49                     3                4             1              No   \n",
       "57                     1                5             1              No   \n",
       "60                     2                5             1              No   \n",
       "62                     2                4             1              No   \n",
       "65                     1                4             1              No   \n",
       "68                     1                4             1              No   \n",
       "70                     1                4             1              No   \n",
       "71                     2                4             1              No   \n",
       "73                     1                5             1              No   \n",
       "74                     1                5             1              No   \n",
       "81                     2                4             1              No   \n",
       "83                     1                4             1              No   \n",
       "85                     1                4             1              No   \n",
       "87                     1                5             1              No   \n",
       "88                     1                5             1              No   \n",
       "89                     1                5             1             Yes   \n",
       "95                     1                4             1              No   \n",
       "96                     2                4             1              No   \n",
       "97                     1                5             1              No   \n",
       "98                     1                5             1             Yes   \n",
       "101                    1                4             1              No   \n",
       "102                    1                5             1              No   \n",
       "104                    2                5             1              No   \n",
       "107                    2                5             1             Yes   \n",
       "\n",
       "              effect_of_lead  \n",
       "0    No, It's still the same  \n",
       "4    No, It's still the same  \n",
       "5    No, It's still the same  \n",
       "8    No, It's still the same  \n",
       "9                Yes, It did  \n",
       "10   No, It's still the same  \n",
       "17   No, It's still the same  \n",
       "24   No, It's still the same  \n",
       "25   No, It's still the same  \n",
       "34   No, It's still the same  \n",
       "35   No, It's still the same  \n",
       "36   No, It's still the same  \n",
       "37   No, It's still the same  \n",
       "38   No, It's still the same  \n",
       "39   No, It's still the same  \n",
       "42   No, It's still the same  \n",
       "43   No, It's still the same  \n",
       "44   No, It's still the same  \n",
       "49   No, It's still the same  \n",
       "57               Yes, It did  \n",
       "60               Yes, It did  \n",
       "62   No, It's still the same  \n",
       "65               Yes, It did  \n",
       "68   No, It's still the same  \n",
       "70               Yes, It did  \n",
       "71               Yes, It did  \n",
       "73   No, It's still the same  \n",
       "74               Yes, It did  \n",
       "81   No, It's still the same  \n",
       "83   No, It's still the same  \n",
       "85               Yes, It did  \n",
       "87   No, It's still the same  \n",
       "88               Yes, It did  \n",
       "89               Yes, It did  \n",
       "95               Yes, It did  \n",
       "96   No, It's still the same  \n",
       "97               Yes, It did  \n",
       "98               Yes, It did  \n",
       "101  No, It's still the same  \n",
       "102              Yes, It did  \n",
       "104  No, It's still the same  \n",
       "107  No, It's still the same  "
      ]
     },
     "execution_count": 37,
     "metadata": {},
     "output_type": "execute_result"
    }
   ],
   "source": [
    "#Adding the above created lists as columns in the \"low_consumption\" column \n",
    "low_consumption['nutritive_value']=a\n",
    "low_consumption['effect_of_lead']=b\n",
    "low_consumption"
   ]
  },
  {
   "cell_type": "code",
   "execution_count": 38,
   "metadata": {},
   "outputs": [
    {
     "data": {
      "text/plain": [
       "0.3333333333333333"
      ]
     },
     "execution_count": 38,
     "metadata": {},
     "output_type": "execute_result"
    }
   ],
   "source": [
    "#probability that the person's consumption decreased after lead controversy given his/her consumption is low\n",
    "P_a= (np.argwhere(low_consumption['effect_of_lead'].to_numpy()=='Yes, It did').shape[0])/low_consumption.shape[0]\n",
    "P_a"
   ]
  },
  {
   "cell_type": "code",
   "execution_count": 39,
   "metadata": {},
   "outputs": [
    {
     "data": {
      "text/plain": [
       "0.8571428571428571"
      ]
     },
     "execution_count": 39,
     "metadata": {},
     "output_type": "execute_result"
    }
   ],
   "source": [
    "#probability that the person doesn't find any nutritive value in maggi given his/her consumption is low\n",
    "P_b= (np.argwhere(low_consumption['nutritive_value'].to_numpy()=='No').shape[0])/low_consumption.shape[0]\n",
    "P_b"
   ]
  },
  {
   "cell_type": "code",
   "execution_count": 40,
   "metadata": {},
   "outputs": [
    {
     "data": {
      "text/plain": [
       "0.2857142857142857"
      ]
     },
     "execution_count": 40,
     "metadata": {},
     "output_type": "execute_result"
    }
   ],
   "source": [
    "#probability that the person's consumption decreased after lead controversy and the person doesn't find any nutritive value in maggi given his/her consumption is low\n",
    "P_ab= (np.argwhere((low_consumption['nutritive_value'].to_numpy()=='No') & (low_consumption['effect_of_lead'].to_numpy()=='Yes, It did')).shape[0])/low_consumption.shape[0]\n",
    "P_ab"
   ]
  },
  {
   "cell_type": "code",
   "execution_count": 41,
   "metadata": {},
   "outputs": [
    {
     "data": {
      "text/plain": [
       "0.9047619047619048"
      ]
     },
     "execution_count": 41,
     "metadata": {},
     "output_type": "execute_result"
    }
   ],
   "source": [
    "#probability that the person's consumption decreased after lead controversy or the person doesn't find any nutritive value in maggi given his/her consumption is low\n",
    "P_a_union_b= P_a + P_b - P_ab\n",
    "P_a_union_b"
   ]
  },
  {
   "cell_type": "markdown",
   "metadata": {},
   "source": [
    "Out of all the people who consume Maggi very rarely, around 95% of the people either do not find any nutritive value in Maggi or their consumption decreased after the lead controversy.\n",
    "It suggests that these people are quite health conscious. Maggi might want to work on making this cluster of people believe that Maggi is safe to eat."
   ]
  },
  {
   "cell_type": "markdown",
   "metadata": {},
   "source": [
    "## Naive Bayes Classifier"
   ]
  },
  {
   "cell_type": "markdown",
   "metadata": {},
   "source": [
    "The Naive Bayes Classifier has been deployed to predict whether a person would prefer Rs 15 pack of maggi noodles given he/she consumes 1 pack of maggi noodles at a time and consumes it quite oftenly.<br>\n",
    "The person who consumes 1 pack of maggi noodles would be profitable if he/she would shift to Rs 15 pack and if he/she consumes it quit oftenly."
   ]
  },
  {
   "cell_type": "code",
   "execution_count": 42,
   "metadata": {},
   "outputs": [],
   "source": [
    "#Assign value 3 to the people who consume maggi noodles more than once or once in a week or once in two weeks. \n",
    "naive_df=pd.DataFrame()\n",
    "naive_df['number_of_times']=np.where(np.isin(maggi_data[\"number_of_times\"],[3,4,5]),3,maggi_data[\"number_of_times\"])"
   ]
  },
  {
   "cell_type": "code",
   "execution_count": 43,
   "metadata": {},
   "outputs": [],
   "source": [
    "#Add 'consumption(in pkt)' column in the newly_created dataframe. \n",
    "naive_df[\"consumption(in pkt)\"]=maggi_data['consumption(in pkt)']"
   ]
  },
  {
   "cell_type": "code",
   "execution_count": 44,
   "metadata": {},
   "outputs": [
    {
     "data": {
      "text/html": [
       "<div>\n",
       "<style scoped>\n",
       "    .dataframe tbody tr th:only-of-type {\n",
       "        vertical-align: middle;\n",
       "    }\n",
       "\n",
       "    .dataframe tbody tr th {\n",
       "        vertical-align: top;\n",
       "    }\n",
       "\n",
       "    .dataframe thead th {\n",
       "        text-align: right;\n",
       "    }\n",
       "</style>\n",
       "<table border=\"1\" class=\"dataframe\">\n",
       "  <thead>\n",
       "    <tr style=\"text-align: right;\">\n",
       "      <th></th>\n",
       "      <th>number_of_times</th>\n",
       "      <th>consumption(in pkt)</th>\n",
       "    </tr>\n",
       "  </thead>\n",
       "  <tbody>\n",
       "    <tr>\n",
       "      <td>0</td>\n",
       "      <td>3</td>\n",
       "      <td>1</td>\n",
       "    </tr>\n",
       "    <tr>\n",
       "      <td>1</td>\n",
       "      <td>3</td>\n",
       "      <td>1</td>\n",
       "    </tr>\n",
       "    <tr>\n",
       "      <td>2</td>\n",
       "      <td>3</td>\n",
       "      <td>2</td>\n",
       "    </tr>\n",
       "    <tr>\n",
       "      <td>3</td>\n",
       "      <td>1</td>\n",
       "      <td>2</td>\n",
       "    </tr>\n",
       "    <tr>\n",
       "      <td>4</td>\n",
       "      <td>3</td>\n",
       "      <td>2</td>\n",
       "    </tr>\n",
       "    <tr>\n",
       "      <td>...</td>\n",
       "      <td>...</td>\n",
       "      <td>...</td>\n",
       "    </tr>\n",
       "    <tr>\n",
       "      <td>105</td>\n",
       "      <td>1</td>\n",
       "      <td>2</td>\n",
       "    </tr>\n",
       "    <tr>\n",
       "      <td>106</td>\n",
       "      <td>2</td>\n",
       "      <td>2</td>\n",
       "    </tr>\n",
       "    <tr>\n",
       "      <td>107</td>\n",
       "      <td>3</td>\n",
       "      <td>2</td>\n",
       "    </tr>\n",
       "    <tr>\n",
       "      <td>108</td>\n",
       "      <td>2</td>\n",
       "      <td>1</td>\n",
       "    </tr>\n",
       "    <tr>\n",
       "      <td>109</td>\n",
       "      <td>2</td>\n",
       "      <td>1</td>\n",
       "    </tr>\n",
       "  </tbody>\n",
       "</table>\n",
       "<p>110 rows × 2 columns</p>\n",
       "</div>"
      ],
      "text/plain": [
       "     number_of_times  consumption(in pkt)\n",
       "0                  3                    1\n",
       "1                  3                    1\n",
       "2                  3                    2\n",
       "3                  1                    2\n",
       "4                  3                    2\n",
       "..               ...                  ...\n",
       "105                1                    2\n",
       "106                2                    2\n",
       "107                3                    2\n",
       "108                2                    1\n",
       "109                2                    1\n",
       "\n",
       "[110 rows x 2 columns]"
      ]
     },
     "execution_count": 44,
     "metadata": {},
     "output_type": "execute_result"
    }
   ],
   "source": [
    "naive_df"
   ]
  },
  {
   "cell_type": "code",
   "execution_count": 45,
   "metadata": {},
   "outputs": [
    {
     "name": "stdout",
     "output_type": "stream",
     "text": [
      "Gaussian Naive Bayes model accuracy(in %): 72.72727272727273\n"
     ]
    },
    {
     "name": "stderr",
     "output_type": "stream",
     "text": [
      "C:\\Users\\Dell\\Anaconda3\\lib\\site-packages\\sklearn\\utils\\validation.py:724: DataConversionWarning: A column-vector y was passed when a 1d array was expected. Please change the shape of y to (n_samples, ), for example using ravel().\n",
      "  y = column_or_1d(y, warn=True)\n"
     ]
    }
   ],
   "source": [
    "# store the feature matrix (X) and response vector (y)\n",
    "X = naive_df\n",
    "y = pd.DataFrame({\"rs15pack\":maggi_data[\"rs15pack\"]})\n",
    "  \n",
    "# splitting X and y into training and testing sets\n",
    "from sklearn.model_selection import train_test_split\n",
    "X_train, X_test, y_train, y_test = train_test_split(X, y, test_size=0.2, random_state=1)\n",
    "  \n",
    "# training the model on training set\n",
    "from sklearn.naive_bayes import GaussianNB\n",
    "gnb = GaussianNB()\n",
    "gnb.fit(X_train, y_train)\n",
    "  \n",
    "# making predictions on the testing set\n",
    "y_pred = gnb.predict(X_test)\n",
    "  \n",
    "# comparing actual response values (y_test) with predicted response values (y_pred)\n",
    "from sklearn import metrics\n",
    "print('Gaussian Naive Bayes model accuracy(in %):', metrics.accuracy_score(y_test,y_pred)*100)\n",
    "      "
   ]
  },
  {
   "cell_type": "code",
   "execution_count": 46,
   "metadata": {},
   "outputs": [
    {
     "name": "stdout",
     "output_type": "stream",
     "text": [
      "['Yes']\n"
     ]
    }
   ],
   "source": [
    "'''\n",
    "Make prediction whether a peron would prefer Rs.15 pack of maggi noodles given he/she consumes 1 pack of maggi noodles at a \n",
    "time and consumes it quite oftenly. using the naive bayes classifier\n",
    "'''\n",
    "x=pd.DataFrame({\"number_times\":[3],\"consumption(in pkt)\":[1]})\n",
    "print(gnb.predict(x))"
   ]
  },
  {
   "cell_type": "markdown",
   "metadata": {},
   "source": [
    "According to the Naive Bayes Classifier a person would prefer Rs.15 pack of maggi noodles given he/she consumes 1 pack of maggi noodles at a time and consumes it quite oftenly. "
   ]
  },
  {
   "cell_type": "code",
   "execution_count": 47,
   "metadata": {},
   "outputs": [],
   "source": [
    "#profit or loss calculations(monthly)\n",
    "#Assigning 0,1,2,4,8 to the persons who consume maggi noodles given no. times in a month respectively\n",
    "monthly_consumption= np.array(maggi_data[\"number_of_times\"].map({1:0,2:1,3:2,4:4,5:8}))\n",
    "#profit or loss maggi would bear is it introduced Rs.15 pack from each category of consumers.\n",
    "profit_loss=np.array(maggi_data['consumption(in pkt)'].map({1:3,2:-9,3:-6}))"
   ]
  },
  {
   "cell_type": "code",
   "execution_count": 48,
   "metadata": {},
   "outputs": [
    {
     "data": {
      "text/plain": [
       "-261"
      ]
     },
     "execution_count": 48,
     "metadata": {},
     "output_type": "execute_result"
    }
   ],
   "source": [
    "#Calculating the sum of product of corresponding values of above two columns would give us monthly profit/loss\n",
    "sum(monthly_consumption*profit_loss)\n"
   ]
  },
  {
   "cell_type": "code",
   "execution_count": 49,
   "metadata": {},
   "outputs": [
    {
     "data": {
      "text/plain": [
       "5016"
      ]
     },
     "execution_count": 49,
     "metadata": {},
     "output_type": "execute_result"
    }
   ],
   "source": [
    "#monthly revenue earned by maggi by Rs.12 pack of noodles\n",
    "rs12=np.array(maggi_data['consumption(in pkt)'].map({1:12,2:24,3:36}))\n",
    "sum(monthly_consumption*rs12)"
   ]
  },
  {
   "cell_type": "code",
   "execution_count": 50,
   "metadata": {},
   "outputs": [
    {
     "data": {
      "text/plain": [
       "4755"
      ]
     },
     "execution_count": 50,
     "metadata": {},
     "output_type": "execute_result"
    }
   ],
   "source": [
    "#monthly revenue earned by maggi by Rs.15 pack of noodles\n",
    "rs15=np.array(maggi_data['consumption(in pkt)'].map({1:15,2:15,3:30}))\n",
    "sum(monthly_consumption*rs15)"
   ]
  },
  {
   "cell_type": "code",
   "execution_count": 51,
   "metadata": {},
   "outputs": [
    {
     "data": {
      "text/plain": [
       "-5.203349282296651"
      ]
     },
     "execution_count": 51,
     "metadata": {},
     "output_type": "execute_result"
    }
   ],
   "source": [
    "#percentage loss\n",
    "(sum(monthly_consumption*profit_loss)/sum(monthly_consumption*rs12))*100"
   ]
  },
  {
   "cell_type": "markdown",
   "metadata": {},
   "source": [
    "Maggi would have to bear a monthly loss of approximately 5% if it introduced Rs.15 pack of maggi noodles. "
   ]
  },
  {
   "cell_type": "code",
   "execution_count": null,
   "metadata": {},
   "outputs": [],
   "source": []
  }
 ],
 "metadata": {
  "kernelspec": {
   "display_name": "Python 3",
   "language": "python",
   "name": "python3"
  },
  "language_info": {
   "codemirror_mode": {
    "name": "ipython",
    "version": 3
   },
   "file_extension": ".py",
   "mimetype": "text/x-python",
   "name": "python",
   "nbconvert_exporter": "python",
   "pygments_lexer": "ipython3",
   "version": "3.7.4"
  }
 },
 "nbformat": 4,
 "nbformat_minor": 5
}
